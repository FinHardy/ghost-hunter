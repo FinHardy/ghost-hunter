{
 "cells": [
  {
   "cell_type": "markdown",
   "id": "54785fca",
   "metadata": {},
   "source": [
    "# setup environment"
   ]
  },
  {
   "cell_type": "code",
   "execution_count": 4,
   "id": "06e4cb4f",
   "metadata": {},
   "outputs": [
    {
     "name": "stderr",
     "output_type": "stream",
     "text": [
      "\u001b[34m\u001b[1mwandb\u001b[0m: Using wandb-core as the SDK backend.  Please refer to https://wandb.me/wandb-core for more information.\n",
      "\u001b[34m\u001b[1mwandb\u001b[0m: Currently logged in as: \u001b[33mfintan-hardy\u001b[0m (\u001b[33mfintan-hardy-imperial-college-london\u001b[0m). Use \u001b[1m`wandb login --relogin`\u001b[0m to force relogin\n",
      "\u001b[34m\u001b[1mwandb\u001b[0m: \u001b[33mWARNING\u001b[0m If you're specifying your api key in code, ensure this code is not shared publicly.\n",
      "\u001b[34m\u001b[1mwandb\u001b[0m: \u001b[33mWARNING\u001b[0m Consider setting the WANDB_API_KEY environment variable, or running `wandb login` from the command line.\n",
      "\u001b[34m\u001b[1mwandb\u001b[0m: Appending key for api.wandb.ai to your netrc file: /rds/general/user/fgh24/home/.netrc\n"
     ]
    }
   ],
   "source": [
    "from scripts.dm4_to_png import save_dm4_BF_to_png\n",
    "from labelling.binary_search_labeler import label\n",
    "from src.run import main\n",
    "from src.inference import plot_embeddings\n"
   ]
  },
  {
   "cell_type": "markdown",
   "id": "43df2677",
   "metadata": {},
   "source": [
    "## STEPS \n",
    "- Turn dm4 into png images \n",
    "- label data \n",
    "- Train model on labelled data\n",
    "- Do inference"
   ]
  },
  {
   "cell_type": "code",
   "execution_count": null,
   "id": "4d2e7aa3",
   "metadata": {},
   "outputs": [],
   "source": [
    "# IMPORTANT\n",
    "dm4_path = \"../data/dm4/boracite_Diffraction_SI.dm4\"\n",
    "output_png_path = \"data/png/2025-05-30-test\"\n",
    "labelling_path = \"labels/2025-05-30-test_label.yaml\"\n",
    "config_file = \"configs/2025-05-30-test.yaml\"\n",
    "output_save_path = \"output/\"\n",
    "\n",
    "dim1 = 512  # y-axis\n",
    "dim2 = 512  # x-axis\n",
    "\n",
    "# labelling hyperperameters\n",
    "sampling_space = 10\n",
    "number_of_labels_to_assign = 100"
   ]
  },
  {
   "cell_type": "code",
   "execution_count": 9,
   "id": "6cdefb05",
   "metadata": {},
   "outputs": [
    {
     "name": "stdout",
     "output_type": "stream",
     "text": [
      "seed: 42\n",
      "test_only: False\n",
      "accelerator: \"cuda\"\n",
      "\n",
      "data:\n",
      "  data_dir: \"data/png/2025-05-30-test\"\n",
      "  train_dir: \"data/png/2025-05-30-test\"\n",
      "  data_loader: \"RawPngLoader\"\n",
      "  train_ratio: 0.9\n",
      "  val_ratio: 0.05\n",
      "  test_ratio: 0.05\n",
      "  num_workers: 4\n",
      "  augment: False\n",
      "  image_size: 256\n",
      "  labels_file: \"labels.yaml\"\n",
      "\n",
      "wandb:\n",
      "  project_name: \"polarisation_mapping-live\"\n",
      "  run_name: \"first run experiment\"\n",
      "  experiment_id: \"1\"\n",
      "  ex_description: \"Running first experiment to test the pipeline with simple model\"\n",
      "\n",
      "model:\n",
      "  in_channels: 1\n",
      "  batch_size: 8\n",
      "  model_name: \"ThreeLayerCNN\"\n",
      "  accuracy_metric: \"cross_entropy\"\n",
      "\n",
      "optimizer:\n",
      "  optimizer: \"adamw\"\n",
      "  lr: 0.0004\n",
      "  weight_decay: 0.002\n",
      "  momentum: 0.9\n",
      "  betas: [0.9, 0.999]\n",
      "\n",
      "scheduler:\n",
      "  scheduler: \"plateau\"\n",
      "  step_size: 30\n",
      "  step_size_up: 1000\n",
      "  patience: 2\n",
      "  factor: 0.5\n",
      "  min_lr: 3e-5\n",
      "  max_lr: 5e-5\n",
      "  T_max: 10\n",
      "  gamma: 0.1\n",
      "\n",
      "trainer:\n",
      "  num_nodes: 1\n",
      "  devices: 1\n",
      "  max_epochs: 100\n",
      "  log_dir: \"./logs\"\n",
      "  log_every_n_steps: 100\n",
      "  load_path: \"\"\n",
      "  resume_from: False \n",
      "  checkpoint_dir: \"./checkpoints/2025-05-30-testing/\"\n",
      "  wandb_logging: True\n",
      "\n",
      "test: \n",
      "  load_path: \"./checkpoints/2025-05-30-testing\"\n",
      "\n"
     ]
    }
   ],
   "source": [
    "# read config file and print output\n",
    "with open(config_file, \"r\") as file:\n",
    "    config = file.read()\n",
    "    print(config)"
   ]
  },
  {
   "cell_type": "markdown",
   "id": "7688f5b6",
   "metadata": {},
   "source": [
    "# Turn dm4 into .png"
   ]
  },
  {
   "cell_type": "code",
   "execution_count": 10,
   "id": "0ca03b84",
   "metadata": {},
   "outputs": [
    {
     "name": "stdout",
     "output_type": "stream",
     "text": [
      "File is not a valid DM3 or DM4\n"
     ]
    }
   ],
   "source": [
    "save_dm4_BF_to_png(dm4_path, labelling_path, crop=False, crop_values=None)"
   ]
  },
  {
   "cell_type": "markdown",
   "id": "47be47ab",
   "metadata": {},
   "source": [
    "# Label Images"
   ]
  },
  {
   "cell_type": "code",
   "execution_count": null,
   "id": "8eb9c993",
   "metadata": {},
   "outputs": [],
   "source": [
    "label(output_png_path, labelling_path, sampling_space, number_of_labels_to_assign)"
   ]
  },
  {
   "cell_type": "markdown",
   "id": "23fa71ed",
   "metadata": {},
   "source": [
    "# Training"
   ]
  },
  {
   "cell_type": "code",
   "execution_count": null,
   "id": "e741349e",
   "metadata": {},
   "outputs": [],
   "source": [
    "main(config_file)"
   ]
  },
  {
   "cell_type": "markdown",
   "id": "d07ae5e4",
   "metadata": {},
   "source": [
    "# Inference"
   ]
  },
  {
   "cell_type": "code",
   "execution_count": null,
   "id": "040379d2",
   "metadata": {},
   "outputs": [],
   "source": [
    "plot_embeddings(\n",
    "    config_file,\n",
    "    dim1,\n",
    "    dim2,\n",
    "    save_path=output_save_path,\n",
    ")"
   ]
  }
 ],
 "metadata": {
  "kernelspec": {
   "display_name": "Python 3",
   "language": "python",
   "name": "python3"
  },
  "language_info": {
   "codemirror_mode": {
    "name": "ipython",
    "version": 3
   },
   "file_extension": ".py",
   "mimetype": "text/x-python",
   "name": "python",
   "nbconvert_exporter": "python",
   "pygments_lexer": "ipython3",
   "version": "3.11.11"
  }
 },
 "nbformat": 4,
 "nbformat_minor": 5
}
